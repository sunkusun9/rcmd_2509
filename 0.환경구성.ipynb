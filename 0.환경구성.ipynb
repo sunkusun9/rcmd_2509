{
 "cells": [
  {
   "cell_type": "markdown",
   "id": "76a1f9bc-fa4f-4b48-b3cd-b640431d5012",
   "metadata": {},
   "source": [
    "# 환경 구성\n"
   ]
  },
  {
   "cell_type": "code",
   "execution_count": 1,
   "id": "a3c814ef-907a-44c6-8f1f-8356f86d0c86",
   "metadata": {},
   "outputs": [
    {
     "name": "stdout",
     "output_type": "stream",
     "text": [
      "Python 3.12.11 (main, Jun 15 2025, 06:06:41) [GCC 13.3.0]\n"
     ]
    }
   ],
   "source": [
    "import os\n",
    "import sys\n",
    "print('Python', sys.version)"
   ]
  },
  {
   "cell_type": "markdown",
   "id": "c7206ce4-3712-400d-978a-416e464599eb",
   "metadata": {},
   "source": [
    "## 주요 패키지"
   ]
  },
  {
   "cell_type": "markdown",
   "id": "862a4908-969d-4269-b285-8e6c6b051a4f",
   "metadata": {},
   "source": [
    "### pandas\n",
    "\n",
    "데이터 처리 라이브러리"
   ]
  },
  {
   "cell_type": "code",
   "execution_count": 2,
   "id": "7b5437d6-2f07-44b3-a0ee-7333f09e370b",
   "metadata": {},
   "outputs": [
    {
     "data": {
      "text/plain": [
       "('pandas', '2.3.0')"
      ]
     },
     "execution_count": 2,
     "metadata": {},
     "output_type": "execute_result"
    }
   ],
   "source": [
    "try:\n",
    "    import pandas as pd\n",
    "except:\n",
    "    !pip install --upgrade pandas\n",
    "    import pandas as pd\n",
    "\n",
    "pd.__name__, pd.__version__"
   ]
  },
  {
   "cell_type": "markdown",
   "id": "92f21288-9fe2-4c91-8672-c85b796b966d",
   "metadata": {},
   "source": [
    "### numpy\n",
    "\n",
    "수치 연산 라이브러리"
   ]
  },
  {
   "cell_type": "code",
   "execution_count": 3,
   "id": "591deafa-2ebe-4ba9-902d-2e01f74916c4",
   "metadata": {},
   "outputs": [
    {
     "data": {
      "text/plain": [
       "('numpy', '2.1.3')"
      ]
     },
     "execution_count": 3,
     "metadata": {},
     "output_type": "execute_result"
    }
   ],
   "source": [
    "try:\n",
    "    import numpy as np\n",
    "except:\n",
    "    !pip install --upgrade numpy \n",
    "    import numpy as np\n",
    "\n",
    "np.__name__, np.__version__"
   ]
  },
  {
   "cell_type": "markdown",
   "id": "e215bbc2-840b-4a7a-beca-f800d7a2e17c",
   "metadata": {},
   "source": [
    "### scipy\n",
    "\n",
    "과학용 수치 연산 라이브러리"
   ]
  },
  {
   "cell_type": "code",
   "execution_count": 4,
   "id": "d477cd46-2d96-41f6-8b61-32621f6317d8",
   "metadata": {},
   "outputs": [
    {
     "data": {
      "text/plain": [
       "('scipy', '1.15.3')"
      ]
     },
     "execution_count": 4,
     "metadata": {},
     "output_type": "execute_result"
    }
   ],
   "source": [
    "try:\n",
    "    import scipy\n",
    "except:\n",
    "    !pip install --upgrade scipy\n",
    "    import scipy\n",
    "\n",
    "scipy.__name__, scipy.__version__"
   ]
  },
  {
   "cell_type": "markdown",
   "id": "5150247e-166e-41fe-b2d3-d62ffece5e10",
   "metadata": {},
   "source": [
    "### scikit-learn\n",
    "\n",
    "머신러닝 라이브러리"
   ]
  },
  {
   "cell_type": "code",
   "execution_count": 5,
   "id": "ee47c8a5-7065-4395-ac81-08cdc7861758",
   "metadata": {},
   "outputs": [
    {
     "data": {
      "text/plain": [
       "('sklearn', '1.7.0')"
      ]
     },
     "execution_count": 5,
     "metadata": {},
     "output_type": "execute_result"
    }
   ],
   "source": [
    "try:\n",
    "    import sklearn\n",
    "except:\n",
    "    !pip install --upgrade scikit-learn\n",
    "    import sklearn\n",
    "sklearn.__name__, sklearn.__version__"
   ]
  },
  {
   "cell_type": "markdown",
   "id": "14631192-22fc-4df8-b789-2d8cabccc1c8",
   "metadata": {},
   "source": [
    "### matplotlib\n",
    "\n",
    "시각화 라이브러리"
   ]
  },
  {
   "cell_type": "code",
   "execution_count": 6,
   "id": "627bfa73-13af-4e32-827e-6327e9daa863",
   "metadata": {},
   "outputs": [
    {
     "data": {
      "text/plain": [
       "('matplotlib', '3.10.3')"
      ]
     },
     "execution_count": 6,
     "metadata": {},
     "output_type": "execute_result"
    }
   ],
   "source": [
    "try:\n",
    "    import matplotlib as mpl\n",
    "except:\n",
    "    !pip install --upgrade matplotlib\n",
    "    import matplotlib as mpl\n",
    "mpl.__name__, mpl.__version__"
   ]
  },
  {
   "cell_type": "markdown",
   "id": "838471f8-bec3-43b4-bba9-d87e9d5595a3",
   "metadata": {},
   "source": [
    "### seaborn\n",
    "\n",
    "차트 중심 시각화 라이브러리"
   ]
  },
  {
   "cell_type": "code",
   "execution_count": 7,
   "id": "d031e0f1-9c0a-4974-8bd0-9ffb9ce037bd",
   "metadata": {},
   "outputs": [
    {
     "data": {
      "text/plain": [
       "('seaborn', '0.13.2')"
      ]
     },
     "execution_count": 7,
     "metadata": {},
     "output_type": "execute_result"
    }
   ],
   "source": [
    "try:\n",
    "    import seaborn as sns\n",
    "except:\n",
    "    !pip install --upgrade seaborn\n",
    "    import seaborn as sns\n",
    "sns.__name__, sns.__version__"
   ]
  },
  {
   "cell_type": "markdown",
   "id": "a34e3ca3-8278-446b-85df-ff796844d1ce",
   "metadata": {},
   "source": [
    "### LightGBM\n",
    "\n",
    "Gradient Boosting Tree 라이브러리"
   ]
  },
  {
   "cell_type": "code",
   "execution_count": 8,
   "id": "02d7b336-f6af-4849-afb3-3c11481b56bc",
   "metadata": {},
   "outputs": [
    {
     "data": {
      "text/plain": [
       "('lightgbm', '4.6.0')"
      ]
     },
     "execution_count": 8,
     "metadata": {},
     "output_type": "execute_result"
    }
   ],
   "source": [
    "try:\n",
    "    import lightgbm as lgb\n",
    "except:\n",
    "    !pip install --upgrade lightgbm\n",
    "    import lightgbm as lgb\n",
    "lgb.__name__, lgb.__version__"
   ]
  },
  {
   "cell_type": "markdown",
   "id": "f08da741-eaf7-4605-b30d-6babb72e781a",
   "metadata": {},
   "source": [
    "### KIWI\n",
    "\n",
    "한글 형태소 분석기: [KIWI](https://github.com/bab2min/kiwipiepy)"
   ]
  },
  {
   "cell_type": "code",
   "execution_count": 9,
   "id": "dd76e7fd-cead-40cb-b11e-a0925b04c15f",
   "metadata": {},
   "outputs": [
    {
     "data": {
      "text/plain": [
       "('kiwipiepy', '0.21.0')"
      ]
     },
     "execution_count": 9,
     "metadata": {},
     "output_type": "execute_result"
    }
   ],
   "source": [
    "try:\n",
    "    import kiwipiepy\n",
    "except:\n",
    "    !pip install --upgrade kiwipiepy\n",
    "    import kiwipiepy\n",
    "\n",
    "kiwipiepy.__name__, kiwipiepy.__version__"
   ]
  },
  {
   "cell_type": "markdown",
   "id": "d053246e-bb75-46ab-a3d7-84d9fa9142ba",
   "metadata": {},
   "source": [
    "## Tensorflow \n",
    "\n",
    "딥러닝 프레임웤: [Tensorflow](https://www.tensorflow.org/)\n",
    "\n",
    "GPU 버젼 Tensorflow 설치"
   ]
  },
  {
   "cell_type": "code",
   "execution_count": 10,
   "id": "363047ac-dba7-43d1-88ec-84c85d2df8b0",
   "metadata": {},
   "outputs": [
    {
     "name": "stderr",
     "output_type": "stream",
     "text": [
      "2025-06-15 12:34:54.974902: E external/local_xla/xla/stream_executor/cuda/cuda_fft.cc:467] Unable to register cuFFT factory: Attempting to register factory for plugin cuFFT when one has already been registered\n",
      "WARNING: All log messages before absl::InitializeLog() is called are written to STDERR\n",
      "E0000 00:00:1749990894.985805      62 cuda_dnn.cc:8579] Unable to register cuDNN factory: Attempting to register factory for plugin cuDNN when one has already been registered\n",
      "E0000 00:00:1749990894.989081      62 cuda_blas.cc:1407] Unable to register cuBLAS factory: Attempting to register factory for plugin cuBLAS when one has already been registered\n",
      "W0000 00:00:1749990894.997322      62 computation_placer.cc:177] computation placer already registered. Please check linkage and avoid linking the same target more than once.\n",
      "W0000 00:00:1749990894.997340      62 computation_placer.cc:177] computation placer already registered. Please check linkage and avoid linking the same target more than once.\n",
      "W0000 00:00:1749990894.997341      62 computation_placer.cc:177] computation placer already registered. Please check linkage and avoid linking the same target more than once.\n",
      "W0000 00:00:1749990894.997341      62 computation_placer.cc:177] computation placer already registered. Please check linkage and avoid linking the same target more than once.\n"
     ]
    },
    {
     "data": {
      "text/plain": [
       "('tensorflow', '2.19.0')"
      ]
     },
     "execution_count": 10,
     "metadata": {},
     "output_type": "execute_result"
    }
   ],
   "source": [
    "# TF_CPP_MIN_LOG_LEVEL: Tensorflow에서 출력할 로그의 수준을 지정합니다. \n",
    "# 0 = all messages are logged (default behavior)\n",
    "# 1 = INFO messages are not printed\n",
    "# 2 = INFO and WARNING messages are not printed\n",
    "# 3 = INFO, WARNING, and ERROR messages are not printed\n",
    "\n",
    "# 불필요한 경고 메세지가 너무 많이 나와서 내용 파악에 어려움이 있어\n",
    "# Tensorflow에서 출력하는 경고 메세지를 보이지 않게 조정합니다.\n",
    "# 개발 단계에서는 비활성화 시키지 않는 것을 권장드립니다. \n",
    "os.environ['TF_CPP_MIN_LOG_LEVEL'] = '2'\n",
    "try:\n",
    "    import tensorflow as tf\n",
    "except:\n",
    "    !pip install --upgrade tensorflow[and-cuda]\n",
    "tf.__name__, tf.__version__"
   ]
  },
  {
   "cell_type": "markdown",
   "id": "b9d2c643-cc12-4e00-a900-6174352acdea",
   "metadata": {},
   "source": [
    "## 기타"
   ]
  },
  {
   "cell_type": "markdown",
   "id": "11322450-a411-49b8-9f49-d3290f416fe6",
   "metadata": {},
   "source": [
    "### tqdm \n",
    "\n",
    "프로그레스바 모듈입니다."
   ]
  },
  {
   "cell_type": "code",
   "execution_count": 11,
   "id": "a90b42df-b3d0-466a-a1d2-29bca6545a7d",
   "metadata": {},
   "outputs": [],
   "source": [
    "try:\n",
    "    import tqdm\n",
    "except:\n",
    "    !pip install --upgrade tqdm"
   ]
  },
  {
   "cell_type": "code",
   "execution_count": 12,
   "id": "9425ac67-c653-4fe4-b2ba-ff0b7e24ce2f",
   "metadata": {},
   "outputs": [],
   "source": [
    "try:\n",
    "    import sqlalchemy\n",
    "except:\n",
    "    !pip install --upgrade sqlalchemy\n",
    "try:\n",
    "    import cx_Oracle\n",
    "except:\n",
    "    !pip install --upgrade cx_Oracle"
   ]
  },
  {
   "cell_type": "markdown",
   "id": "e0e11395-01df-4b38-9687-78b2879040e5",
   "metadata": {},
   "source": [
    "### gdown\n",
    "\n",
    "구글 드라브에 있는 파일을 다운로드합니다."
   ]
  },
  {
   "cell_type": "code",
   "execution_count": 13,
   "id": "026b1aaf-dd48-4080-a1bb-d13cff0f966f",
   "metadata": {},
   "outputs": [],
   "source": [
    "try:\n",
    "    import gdown\n",
    "except:\n",
    "    !pip install gdown"
   ]
  },
  {
   "cell_type": "markdown",
   "id": "6c68ccd3-d9c1-4421-a788-b345be04b9d3",
   "metadata": {},
   "source": [
    "## 강의 목차\n",
    "\n",
    "### 1일차\n",
    "\n",
    "**오전**\n",
    "\n",
    "1. MovieLens 데이터셋 소개\n",
    "\n",
    "2. 추천 시스템 개론 I - 초간단 추천 로직 만들기\n",
    "\n",
    "**오후**\n",
    "\n",
    "2. 콘텐츠 기반 추천\n",
    "\n",
    "3. 머신 러닝 I - 지도학습\n",
    "\n",
    "### 2일차\n",
    "\n",
    "**오전**\n",
    "\n",
    "4. 머신 러닝 II - 비지도학습\n",
    "\n",
    "5. Matrix Factorization 1-1\n",
    "\n",
    "**오후**\n",
    "\n",
    "6. Matrix Factorization 1-2\n",
    "\n",
    "7. Matrix Factorization 2\n",
    "\n",
    "### 3일차\n",
    "\n",
    "**오전**\n",
    "\n",
    "8. Matrix Factorization 3\n",
    "\n",
    "**오후**\n",
    "\n",
    "9. Negative Sampling"
   ]
  },
  {
   "cell_type": "code",
   "execution_count": 14,
   "id": "41b48168-ba4e-41cc-9944-4e92ae63fad5",
   "metadata": {},
   "outputs": [
    {
     "name": "stdout",
     "output_type": "stream",
     "text": [
      "Sun Jun 15 12:35:15 2025       \n",
      "+-----------------------------------------------------------------------------------------+\n",
      "| NVIDIA-SMI 570.124.03             Driver Version: 572.60         CUDA Version: 12.8     |\n",
      "|-----------------------------------------+------------------------+----------------------+\n",
      "| GPU  Name                 Persistence-M | Bus-Id          Disp.A | Volatile Uncorr. ECC |\n",
      "| Fan  Temp   Perf          Pwr:Usage/Cap |           Memory-Usage | GPU-Util  Compute M. |\n",
      "|                                         |                        |               MIG M. |\n",
      "|=========================================+========================+======================|\n",
      "|   0  NVIDIA GeForce RTX 4070 ...    On  |   00000000:01:00.0  On |                  N/A |\n",
      "| N/A   40C    P8              4W /  140W |     500MiB /   8188MiB |      0%      Default |\n",
      "|                                         |                        |                  N/A |\n",
      "+-----------------------------------------+------------------------+----------------------+\n",
      "                                                                                         \n",
      "+-----------------------------------------------------------------------------------------+\n",
      "| Processes:                                                                              |\n",
      "|  GPU   GI   CI              PID   Type   Process name                        GPU Memory |\n",
      "|        ID   ID                                                               Usage      |\n",
      "|=========================================================================================|\n",
      "|  No running processes found                                                             |\n",
      "+-----------------------------------------------------------------------------------------+\n"
     ]
    }
   ],
   "source": [
    "# GPU 모니터링 툴을 구동을 시켜 봅니다. GPU가 WSL 상에서 잘 잡히는지 봅니다.\n",
    "!nvidia-smi"
   ]
  },
  {
   "cell_type": "code",
   "execution_count": null,
   "id": "9062bb46-c8b4-4ca9-8881-d9824aaecf66",
   "metadata": {},
   "outputs": [],
   "source": []
  }
 ],
 "metadata": {
  "kernelspec": {
   "display_name": "Python 3 (ipykernel)",
   "language": "python",
   "name": "python3"
  },
  "language_info": {
   "codemirror_mode": {
    "name": "ipython",
    "version": 3
   },
   "file_extension": ".py",
   "mimetype": "text/x-python",
   "name": "python",
   "nbconvert_exporter": "python",
   "pygments_lexer": "ipython3",
   "version": "3.12.9"
  }
 },
 "nbformat": 4,
 "nbformat_minor": 5
}
